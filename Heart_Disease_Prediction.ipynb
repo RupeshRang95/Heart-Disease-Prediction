{
  "nbformat": 4,
  "nbformat_minor": 0,
  "metadata": {
    "colab": {
      "provenance": [],
      "authorship_tag": "ABX9TyPPh0of179w9xP03lPnITkY",
      "include_colab_link": true
    },
    "kernelspec": {
      "name": "python3",
      "display_name": "Python 3"
    },
    "language_info": {
      "name": "python"
    }
  },
  "cells": [
    {
      "cell_type": "markdown",
      "metadata": {
        "id": "view-in-github",
        "colab_type": "text"
      },
      "source": [
        "<a href=\"https://colab.research.google.com/github/RupeshRang95/Heart-Disease-Prediction/blob/main/Heart_Disease_Prediction.ipynb\" target=\"_parent\"><img src=\"https://colab.research.google.com/assets/colab-badge.svg\" alt=\"Open In Colab\"/></a>"
      ]
    },
    {
      "cell_type": "code",
      "execution_count": 14,
      "metadata": {
        "id": "RKoO131na4dN"
      },
      "outputs": [],
      "source": [
        "#Importing the required packages and libraries\n",
        "from sklearn.metrics import confusion_matrix, classification_report\n",
        "import seaborn as sn\n",
        "import matplotlib.mlab as mlab\n",
        "import matplotlib.pyplot as plt\n",
        "from sklearn import preprocessing\n",
        "import statsmodels.api as sm\n",
        "import scipy.optimize as opt\n",
        "import numpy as np\n",
        "import pylab as pl\n",
        "import pandas as pd\n",
        "from sklearn.model_selection import train_test_split\n",
        "from sklearn.linear_model import LogisticRegression\n",
        "from sklearn.metrics import jaccard_score\n",
        "from google.colab import files\n",
        "import io\n",
        "\n"
      ]
    },
    {
      "cell_type": "code",
      "source": [
        "#Reading the csv file\n",
        "df = pd.read_csv('massachusetts.csv')\n",
        "df.drop(['education'], inplace=True, axis=1)"
      ],
      "metadata": {
        "id": "lKzrUoE3a54L"
      },
      "execution_count": 17,
      "outputs": []
    },
    {
      "cell_type": "code",
      "source": [
        "#Quick glance of how the data looks\n",
        "df.head"
      ],
      "metadata": {
        "colab": {
          "base_uri": "https://localhost:8080/"
        },
        "id": "Z5nMFzjzef8e",
        "outputId": "7b538af2-f121-4154-ab37-98cc77f1b37c"
      },
      "execution_count": 18,
      "outputs": [
        {
          "output_type": "execute_result",
          "data": {
            "text/plain": [
              "<bound method NDFrame.head of       male  age  currentSmoker  cigsPerDay  BPMeds  prevalentStroke  \\\n",
              "0        1   39              0         0.0     0.0                0   \n",
              "1        0   46              0         0.0     0.0                0   \n",
              "2        1   48              1        20.0     0.0                0   \n",
              "3        0   61              1        30.0     0.0                0   \n",
              "4        0   46              1        23.0     0.0                0   \n",
              "...    ...  ...            ...         ...     ...              ...   \n",
              "4235     0   48              1        20.0     NaN                0   \n",
              "4236     0   44              1        15.0     0.0                0   \n",
              "4237     0   52              0         0.0     0.0                0   \n",
              "4238     1   40              0         0.0     0.0                0   \n",
              "4239     0   39              1        30.0     0.0                0   \n",
              "\n",
              "      prevalentHyp  diabetes  totChol  sysBP  diaBP    BMI  heartRate  \\\n",
              "0                0         0    195.0  106.0   70.0  26.97       80.0   \n",
              "1                0         0    250.0  121.0   81.0  28.73       95.0   \n",
              "2                0         0    245.0  127.5   80.0  25.34       75.0   \n",
              "3                1         0    225.0  150.0   95.0  28.58       65.0   \n",
              "4                0         0    285.0  130.0   84.0  23.10       85.0   \n",
              "...            ...       ...      ...    ...    ...    ...        ...   \n",
              "4235             0         0    248.0  131.0   72.0  22.00       84.0   \n",
              "4236             0         0    210.0  126.5   87.0  19.16       86.0   \n",
              "4237             0         0    269.0  133.5   83.0  21.47       80.0   \n",
              "4238             1         0    185.0  141.0   98.0  25.60       67.0   \n",
              "4239             0         0    196.0  133.0   86.0  20.91       85.0   \n",
              "\n",
              "      glucose  TenYearCHD  \n",
              "0        77.0           0  \n",
              "1        76.0           0  \n",
              "2        70.0           0  \n",
              "3       103.0           1  \n",
              "4        85.0           0  \n",
              "...       ...         ...  \n",
              "4235     86.0           0  \n",
              "4236      NaN           0  \n",
              "4237    107.0           0  \n",
              "4238     72.0           0  \n",
              "4239     80.0           0  \n",
              "\n",
              "[4240 rows x 15 columns]>"
            ]
          },
          "metadata": {},
          "execution_count": 18
        }
      ]
    },
    {
      "cell_type": "code",
      "source": [
        "#Removinh NaN\n",
        "df.dropna(axis=0, inplace=True)\n",
        "print(df.head(), df.shape)\n",
        "print(df.TenYearCHD.value_counts())"
      ],
      "metadata": {
        "colab": {
          "base_uri": "https://localhost:8080/"
        },
        "id": "QefEWlgGenDs",
        "outputId": "6f6e9d10-b042-468b-bf97-ec520950d56d"
      },
      "execution_count": 20,
      "outputs": [
        {
          "output_type": "stream",
          "name": "stdout",
          "text": [
            "   male  age  currentSmoker  cigsPerDay  BPMeds  prevalentStroke  \\\n",
            "0     1   39              0         0.0     0.0                0   \n",
            "1     0   46              0         0.0     0.0                0   \n",
            "2     1   48              1        20.0     0.0                0   \n",
            "3     0   61              1        30.0     0.0                0   \n",
            "4     0   46              1        23.0     0.0                0   \n",
            "\n",
            "   prevalentHyp  diabetes  totChol  sysBP  diaBP    BMI  heartRate  glucose  \\\n",
            "0             0         0    195.0  106.0   70.0  26.97       80.0     77.0   \n",
            "1             0         0    250.0  121.0   81.0  28.73       95.0     76.0   \n",
            "2             0         0    245.0  127.5   80.0  25.34       75.0     70.0   \n",
            "3             1         0    225.0  150.0   95.0  28.58       65.0    103.0   \n",
            "4             0         0    285.0  130.0   84.0  23.10       85.0     85.0   \n",
            "\n",
            "   TenYearCHD  \n",
            "0           0  \n",
            "1           0  \n",
            "2           0  \n",
            "3           1  \n",
            "4           0   (3751, 15)\n",
            "0    3179\n",
            "1     572\n",
            "Name: TenYearCHD, dtype: int64\n"
          ]
        }
      ]
    },
    {
      "cell_type": "code",
      "source": [
        " # Counting number of patients affected with Chronic Heart Disease\n",
        " plt.figure(figsize=(8,6))\n",
        " sn.countplot(x=\"TenYearCHD\", data=df, palette=\"BuGn_r\")\n",
        " # 0 shows the number of people affected and 1 shows the number of people not affected"
      ],
      "metadata": {
        "colab": {
          "base_uri": "https://localhost:8080/",
          "height": 560
        },
        "id": "NXJgxOlZgE73",
        "outputId": "acef3f1a-d08e-4f3e-fcea-b63b0f39b9f3"
      },
      "execution_count": 24,
      "outputs": [
        {
          "output_type": "execute_result",
          "data": {
            "text/plain": [
              "<Axes: xlabel='TenYearCHD', ylabel='count'>"
            ]
          },
          "metadata": {},
          "execution_count": 24
        },
        {
          "output_type": "display_data",
          "data": {
            "text/plain": [
              "<Figure size 800x600 with 1 Axes>"
            ],
            "image/png": "[encoded data removed]"
          },
          "metadata": {}
        }
      ]
    },
    {
      "cell_type": "code",
      "source": [
        "#Training and testing sets\n",
        "x = np.asarray(df[['age','male','cigsPerDay','totChol','glucose']])\n",
        "y = np.asarray(df['TenYearCHD'])"
      ],
      "metadata": {
        "id": "w-S73Wq2oX6k"
      },
      "execution_count": 25,
      "outputs": []
    },
    {
      "cell_type": "code",
      "source": [
        "#Normalizing the dataset\n",
        "x = preprocessing.StandardScaler().fit(x).transform(x)"
      ],
      "metadata": {
        "id": "-YVNzB4YpWY3"
      },
      "execution_count": 27,
      "outputs": []
    },
    {
      "cell_type": "code",
      "source": [
        "#Properly training x and y sets\n",
        "x_train, x_test, y_train, y_test = train_test_split(x, y, test_size=0.3, random_state=4)\n",
        "print('Train set: ', x_train.shape, y_train.shape)\n",
        "print('Test set: ', x_test.shape, y_test.shape)"
      ],
      "metadata": {
        "colab": {
          "base_uri": "https://localhost:8080/"
        },
        "id": "C2dy7WYKphHU",
        "outputId": "954be76a-9acf-4d09-840f-e147c6253e46"
      },
      "execution_count": 28,
      "outputs": [
        {
          "output_type": "stream",
          "name": "stdout",
          "text": [
            "Train set:  (2625, 5) (2625,)\n",
            "Test set:  (1126, 5) (1126,)\n"
          ]
        }
      ]
    },
    {
      "cell_type": "code",
      "source": [
        "#Modleing the dataset\n",
        "log_reg = LogisticRegression()\n",
        "log_reg.fit(x_train, y_train)\n",
        "y_pred = log_reg.predict(x_test)"
      ],
      "metadata": {
        "id": "e7dM6JBcqnAC"
      },
      "execution_count": 29,
      "outputs": []
    },
    {
      "cell_type": "code",
      "source": [
        "#Evaluating and Accuracy\n",
        "print('')\n",
        "print('Accuracy of the mode; in Jaccard score is: ', jaccard_score(y_test, y_pred))"
      ],
      "metadata": {
        "colab": {
          "base_uri": "https://localhost:8080/"
        },
        "id": "IEgGsL7ur-69",
        "outputId": "152b9fd1-07ef-4a84-efb3-381243b8a60f"
      },
      "execution_count": 30,
      "outputs": [
        {
          "output_type": "stream",
          "name": "stdout",
          "text": [
            "\n",
            "Accuracy of the mode; in Jaccard score is:  0.045454545454545456\n"
          ]
        }
      ]
    },
    {
      "cell_type": "code",
      "source": [
        "#Using the confusion matrix to check the accuracy of the model\n",
        "cm = confusion_matrix(y_test, y_pred)\n",
        "cm_setup = pd.DataFrame(data=cm, columns = ['Predicted:0','Predicted:1'], index = ['Actual:0', 'Actual:1'])\n",
        "plt.figure(figsize=(9,6))\n",
        "sn.heatmap(cm_setup, annot=True, fmt='d', cmap=\"Greens\")\n",
        "plt.show()"
      ],
      "metadata": {
        "colab": {
          "base_uri": "https://localhost:8080/",
          "height": 522
        },
        "id": "XKJ2Irnqs3ht",
        "outputId": "363e21f4-720f-48e7-d36b-87fe95399bd3"
      },
      "execution_count": 33,
      "outputs": [
        {
          "output_type": "display_data",
          "data": {
            "text/plain": [
              "<Figure size 900x600 with 2 Axes>"
            ],
            "image/png": "[encoded data removed]"
          },
          "metadata": {}
        }
      ]
    },
    {
      "cell_type": "code",
      "source": [
        "#Classification Report\n",
        "print('The details for the confusion matrix is: ')\n",
        "print(classification_report(y_test,y_pred))"
      ],
      "metadata": {
        "colab": {
          "base_uri": "https://localhost:8080/"
        },
        "id": "u-i5zzcmuRyX",
        "outputId": "c2c9d271-f884-4efa-be69-668cba30ba16"
      },
      "execution_count": 34,
      "outputs": [
        {
          "output_type": "stream",
          "name": "stdout",
          "text": [
            "The details for the confusion matrix is: \n",
            "              precision    recall  f1-score   support\n",
            "\n",
            "           0       0.85      1.00      0.92       951\n",
            "           1       0.89      0.05      0.09       175\n",
            "\n",
            "    accuracy                           0.85      1126\n",
            "   macro avg       0.87      0.52      0.50      1126\n",
            "weighted avg       0.86      0.85      0.79      1126\n",
            "\n"
          ]
        }
      ]
    }
  ]
}